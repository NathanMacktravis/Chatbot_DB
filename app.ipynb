{
 "cells": [
  {
   "cell_type": "markdown",
   "metadata": {},
   "source": [
    "Dans ce notebook, Nous allons concevoir un assitant(RAG) capable d'intérroger une base de données et de retourner une réponse à partir d'une question posée en langage naturel.... (À reformuler et ajouter un graphique décrivant le schéma relationnel de la table). "
   ]
  },
  {
   "cell_type": "markdown",
   "metadata": {},
   "source": [
    "# 1) Établir la connection entre la base de données et Langchain "
   ]
  },
  {
   "cell_type": "code",
   "execution_count": 2,
   "metadata": {},
   "outputs": [],
   "source": [
    "from langchain_community.utilities import SQLDatabase\n"
   ]
  },
  {
   "cell_type": "code",
   "execution_count": 8,
   "metadata": {},
   "outputs": [
    {
     "name": "stdout",
     "output_type": "stream",
     "text": [
      "[('da747856-57f3-11ef-88e9-a7340da61c99', 'Jean', 'Dupont', 'jean.dupont@example.com', '0612345678', datetime.date(1980, 5, 15), 'aea2b846-57f3-11ef-88e9-a7340da61c99', '8f61eeac-57f3-11ef-88e9-a7340da61c99'), ('da749372-57f3-11ef-88e9-a7340da61c99', 'Marie', 'Curie', 'marie.curie@example.com', '0623456789', datetime.date(1985, 7, 20), 'aea2f64e-57f3-11ef-88e9-a7340da61c99', '8f6203d8-57f3-11ef-88e9-a7340da61c99'), ('da749778-57f3-11ef-88e9-a7340da61c99', 'Albert', 'Einstein', 'albert.einstein@example.com', '0634567890', datetime.date(1979, 3, 14), 'aea2fa86-57f3-11ef-88e9-a7340da61c99', '8f620626-57f3-11ef-88e9-a7340da61c99'), ('da749a5c-57f3-11ef-88e9-a7340da61c99', 'Isaac', 'Newton', 'isaac.newton@example.com', '0645678901', datetime.date(1983, 1, 4), 'aea2fa86-57f3-11ef-88e9-a7340da61c99', '8f6207ac-57f3-11ef-88e9-a7340da61c99'), ('da749d0e-57f3-11ef-88e9-a7340da61c99', 'Nikola', 'Tesla', 'nikola.tesla@example.com', '0656789012', datetime.date(1981, 7, 10), 'aea2b846-57f3-11ef-88e9-a7340da61c99', '8f62096e-57f3-11ef-88e9-a7340da61c99')]\n"
     ]
    }
   ],
   "source": [
    "# URI de connexion pour MySQL\n",
    "mysql_uri = \"mysql+mysqlconnector://<username>:<password>@<host>:<port>/<database>\"\n",
    "\n",
    "# Création d'une instance SQLDatabase à partir de l'URI MySQL\n",
    "db = SQLDatabase.from_uri(mysql_uri)\n",
    "\n",
    "# Exemple de requête pour vérifier la connexion\n",
    "result = db.run(\"SELECT * FROM Clients LIMIT 5\")\n",
    "print(result)"
   ]
  },
  {
   "cell_type": "markdown",
   "metadata": {},
   "source": [
    "Ça marche !!! La connexion a été établi. Prochaine étape nous allons définir les paramètres qui vont nous permettre de nous connecter à l'API d'OpenAI et les différents composants de notre pipeline LangChain. "
   ]
  }
 ],
 "metadata": {
  "kernelspec": {
   "display_name": "reinforcement_learning_env",
   "language": "python",
   "name": "python3"
  },
  "language_info": {
   "codemirror_mode": {
    "name": "ipython",
    "version": 3
   },
   "file_extension": ".py",
   "mimetype": "text/x-python",
   "name": "python",
   "nbconvert_exporter": "python",
   "pygments_lexer": "ipython3",
   "version": "3.11.5"
  },
  "orig_nbformat": 4
 },
 "nbformat": 4,
 "nbformat_minor": 2
}
